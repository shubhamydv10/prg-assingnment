{
 "cells": [
  {
   "cell_type": "markdown",
   "id": "7ec8f4a9",
   "metadata": {},
   "source": [
    "# 1. Write a Python Program to Display Fibonacci Sequence Using Recursion?"
   ]
  },
  {
   "cell_type": "code",
   "execution_count": 1,
   "id": "146e9822",
   "metadata": {},
   "outputs": [
    {
     "name": "stdout",
     "output_type": "stream",
     "text": [
      "Enter The number : 3\n",
      "The Fibonacci Sequence of 3 is 2\n"
     ]
    }
   ],
   "source": [
    "def fibonacci(n):\n",
    "    if n==0:\n",
    "        return 0\n",
    "    elif n==1:\n",
    "        return 1\n",
    "    else:\n",
    "        return fibonacci(n-1) + fibonacci(n-2)\n",
    "\n",
    "num = int(input(\"Enter The number : \"))\n",
    "print(f\"The Fibonacci Sequence of {num} is {fibonacci(num)}\")\n",
    "    "
   ]
  },
  {
   "cell_type": "markdown",
   "id": "c825f79b",
   "metadata": {},
   "source": [
    "# 2. Write a Python Program to Find Factorial of Number Using Recursion?"
   ]
  },
  {
   "cell_type": "code",
   "execution_count": 2,
   "id": "bba4a81b",
   "metadata": {},
   "outputs": [
    {
     "name": "stdout",
     "output_type": "stream",
     "text": [
      "Enter The number : 5\n",
      "The Factorial of 5 is 120\n"
     ]
    }
   ],
   "source": [
    "def Factorial(n):\n",
    "    if n==0:\n",
    "        return 1\n",
    "    elif n==1:\n",
    "        return 1\n",
    "    else:\n",
    "        return n * Factorial(n-1)\n",
    "    \n",
    "num = int(input(\"Enter The number : \"))\n",
    "print(f\"The Factorial of {num} is {Factorial(num)}\")"
   ]
  },
  {
   "cell_type": "markdown",
   "id": "faee5ac7",
   "metadata": {},
   "source": [
    "# 3. Write a Python Program to calculate your Body Mass Index?"
   ]
  },
  {
   "cell_type": "code",
   "execution_count": 9,
   "id": "3af3e419",
   "metadata": {},
   "outputs": [
    {
     "name": "stdout",
     "output_type": "stream",
     "text": [
      "Enter your weight in kg : 86\n",
      "Enter your height meter : 5.6\n",
      "Your BMI index is 2.7423469387755106 and category is Underweight\n"
     ]
    }
   ],
   "source": [
    "def BMI_cal(w,h):                \n",
    "    bmi = w/(h*h)\n",
    "    return bmi\n",
    "\n",
    "def status(bmi):\n",
    "    if bmi < 18.5:\n",
    "        return \"Underweight\"\n",
    "    elif 18.5 <= bmi < 25:\n",
    "        return \"Normal weight\"\n",
    "    elif 25 <= bmi < 30:\n",
    "        return \"Overweight\"\n",
    "    else:\n",
    "        return \"Obesity\"        \n",
    "\n",
    "weight = float(input(\"Enter your weight in kg : \"))\n",
    "height = float(input(\"Enter your height meter : \"))\n",
    "\n",
    "print(f\"Your BMI index is {BMI_cal(weight,height)} and category is {status(BMI_cal(weight,height))}\")\n"
   ]
  },
  {
   "cell_type": "markdown",
   "id": "35beba52",
   "metadata": {},
   "source": [
    "# 4. Write a Python Program to calculate the natural logarithm of any number?"
   ]
  },
  {
   "cell_type": "code",
   "execution_count": 10,
   "id": "112211c8",
   "metadata": {},
   "outputs": [
    {
     "name": "stdout",
     "output_type": "stream",
     "text": [
      "Enter a number: 5\n",
      "Natural logarithm of 5.0 is 1.6094379124341003\n"
     ]
    }
   ],
   "source": [
    "import math\n",
    "\n",
    "n = float(input(\"Enter a number: \"))\n",
    "if n > 0:\n",
    "    logarithm = math.log(n)\n",
    "    print(\"Natural logarithm of\", n, \"is\", logarithm)\n",
    "else:\n",
    "    print(\"Enter number greater than 0.\")\n"
   ]
  },
  {
   "cell_type": "markdown",
   "id": "1d3b6929",
   "metadata": {},
   "source": [
    "# 5. Write a Python Program for cube sum of first n natural numbers?"
   ]
  },
  {
   "cell_type": "code",
   "execution_count": 11,
   "id": "9b20bf44",
   "metadata": {},
   "outputs": [
    {
     "name": "stdout",
     "output_type": "stream",
     "text": [
      "Enter a number : 8\n",
      "The cube of first 8 natural number is 512\n"
     ]
    }
   ],
   "source": [
    "def sum(n):\n",
    "    a = 0\n",
    "    for i in range(1, n+1):\n",
    "        sum_cube =(a + i**3)\n",
    "    return sum_cube\n",
    "\n",
    "n = int(input(\"Enter a number : \"))\n",
    "if n > 0:\n",
    "    print(f\"The cube of first {n} natural number is {sum(n)}\")\n",
    "else:\n",
    "    print(\"Enter a positive number.\")\n"
   ]
  },
  {
   "cell_type": "code",
   "execution_count": null,
   "id": "992f7095",
   "metadata": {},
   "outputs": [],
   "source": []
  }
 ],
 "metadata": {
  "kernelspec": {
   "display_name": "Python 3 (ipykernel)",
   "language": "python",
   "name": "python3"
  },
  "language_info": {
   "codemirror_mode": {
    "name": "ipython",
    "version": 3
   },
   "file_extension": ".py",
   "mimetype": "text/x-python",
   "name": "python",
   "nbconvert_exporter": "python",
   "pygments_lexer": "ipython3",
   "version": "3.9.13"
  }
 },
 "nbformat": 4,
 "nbformat_minor": 5
}
