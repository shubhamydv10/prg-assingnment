{
 "cells": [
  {
   "cell_type": "markdown",
   "id": "b1e757e5",
   "metadata": {},
   "source": [
    "# 1. Write a Python Program to Add Two Matrices?"
   ]
  },
  {
   "cell_type": "code",
   "execution_count": 7,
   "id": "26f2fa21",
   "metadata": {},
   "outputs": [
    {
     "name": "stdout",
     "output_type": "stream",
     "text": [
      "First matrix : \n",
      "[[4 6 7]\n",
      " [7 5 9]\n",
      " [4 9 6]]\n",
      "\n",
      "Second matrix : \n",
      "[[2 4 6]\n",
      " [9 1 7]\n",
      " [3 8 5]]\n",
      "\n",
      "Sum of both matrix : \n",
      "[[ 6 10 13]\n",
      " [16  6 16]\n",
      " [ 7 17 11]]\n"
     ]
    }
   ],
   "source": [
    "import numpy as np\n",
    "\n",
    "def matrix_add(matrix1 , matrix2):\n",
    "    sum = np.add(matrix1 , matrix2)\n",
    "    return sum\n",
    "\n",
    "matrix1 = np.array([[4,6,7],[7,5,9],[4,9,6]])\n",
    "matrix2 = np.array([[2,4,6],[9,1,7],[3,8,5]])\n",
    "\n",
    "result = matrix_add(matrix1,matrix2)\n",
    "\n",
    "print(f'First matrix : \\n{matrix1}\\n')\n",
    "\n",
    "print(f'Second matrix : \\n{matrix2}\\n')\n",
    "\n",
    "print(f'Sum of both matrix : \\n{result}')\n"
   ]
  },
  {
   "cell_type": "markdown",
   "id": "dff2b86c",
   "metadata": {},
   "source": [
    "# 2. Write a Python Program to Multiply Two Matrices?"
   ]
  },
  {
   "cell_type": "code",
   "execution_count": 9,
   "id": "23f1c7fa",
   "metadata": {},
   "outputs": [
    {
     "name": "stdout",
     "output_type": "stream",
     "text": [
      "First matrix : \n",
      "[[4 6 7]\n",
      " [7 5 9]\n",
      " [4 9 6]]\n",
      "\n",
      "Second matrix : \n",
      "[[2 4 6]\n",
      " [9 1 7]\n",
      " [3 8 5]]\n",
      "\n",
      "Multiplication of both matrix : \n",
      "[[ 83  78 101]\n",
      " [ 86 105 122]\n",
      " [107  73 117]]\n"
     ]
    }
   ],
   "source": [
    "import numpy as np\n",
    "\n",
    "def matrix_mul(matrix1 , matrix2):\n",
    "    mul = np.matmul(matrix1 , matrix2)\n",
    "    return mul\n",
    "\n",
    "matrix1 = np.array([[4,6,7],[7,5,9],[4,9,6]])\n",
    "matrix2 = np.array([[2,4,6],[9,1,7],[3,8,5]])\n",
    "\n",
    "result = matrix_mul(matrix1,matrix2)\n",
    "\n",
    "print(f'First matrix : \\n{matrix1}\\n')\n",
    "\n",
    "print(f'Second matrix : \\n{matrix2}\\n')\n",
    "\n",
    "print(f'Multiplication of both matrix : \\n{result}')"
   ]
  },
  {
   "cell_type": "markdown",
   "id": "f52041d0",
   "metadata": {},
   "source": [
    "# 3. Write a Python Program to Transpose a Matrix?"
   ]
  },
  {
   "cell_type": "code",
   "execution_count": 11,
   "id": "bd09190b",
   "metadata": {},
   "outputs": [
    {
     "name": "stdout",
     "output_type": "stream",
     "text": [
      "Matrix is \n",
      "[[4 6 7]\n",
      " [7 5 9]\n",
      " [4 9 6]]\n",
      "\n",
      "Transpose of matrix is : \n",
      "[[4 7 4]\n",
      " [6 5 9]\n",
      " [7 9 6]]\n"
     ]
    }
   ],
   "source": [
    "import numpy as np\n",
    "\n",
    "def matrix_trs(matrix):\n",
    "    tp = np.transpose(matrix)\n",
    "    return tp\n",
    "\n",
    "matrix = np.array([[4,6,7],[7,5,9],[4,9,6]])\n",
    "result = matrix_trs(matrix)\n",
    "\n",
    "print(f'Matrix is \\n{matrix}\\n')\n",
    "print(f'Transpose of matrix is : \\n{result}')"
   ]
  },
  {
   "cell_type": "markdown",
   "id": "f56ed831",
   "metadata": {},
   "source": [
    "# 4. Write a Python Program to Sort Words in Alphabetic Order?"
   ]
  },
  {
   "cell_type": "code",
   "execution_count": 17,
   "id": "ac3e141d",
   "metadata": {},
   "outputs": [
    {
     "name": "stdout",
     "output_type": "stream",
     "text": [
      "Enter a string: may the force be with you\n",
      "be\n",
      "force\n",
      "may\n",
      "the\n",
      "with\n",
      "you\n"
     ]
    }
   ],
   "source": [
    "def sort(string):\n",
    "    a = string.split()\n",
    "    a.sort()\n",
    "    for i in a:\n",
    "        print(i)\n",
    "\n",
    "my_str = input(\"Enter a string: \")\n",
    "\n",
    "sort(my_str)\n"
   ]
  },
  {
   "cell_type": "markdown",
   "id": "5d73473d",
   "metadata": {},
   "source": [
    "# 5. Write a Python Program to Remove Punctuation From a String?"
   ]
  },
  {
   "cell_type": "code",
   "execution_count": 21,
   "id": "8d394e09",
   "metadata": {},
   "outputs": [
    {
     "name": "stdout",
     "output_type": "stream",
     "text": [
      "Enter a string: may!!!!!,,,,,, the force be with you.................\n",
      "may the force be with you\n"
     ]
    }
   ],
   "source": [
    "def remove_pnc(string):\n",
    "    Punctuation = '''''!()-[]{};:'\"\\,<>./?@#$%^&*_~'''\n",
    "    no_Punctuation = \"\"\n",
    "    for i in string:\n",
    "        if i not in Punctuation:\n",
    "            no_Punctuation += i\n",
    "    return no_Punctuation\n",
    "\n",
    "my_str = input(\"Enter a string: \")\n",
    "\n",
    "my_str_without_punctuation = remove_pnc(my_str)\n",
    "print(my_str_without_punctuation)\n"
   ]
  },
  {
   "cell_type": "code",
   "execution_count": null,
   "id": "489994db",
   "metadata": {},
   "outputs": [],
   "source": []
  },
  {
   "cell_type": "code",
   "execution_count": null,
   "id": "8a864199",
   "metadata": {},
   "outputs": [],
   "source": []
  }
 ],
 "metadata": {
  "kernelspec": {
   "display_name": "Python 3 (ipykernel)",
   "language": "python",
   "name": "python3"
  },
  "language_info": {
   "codemirror_mode": {
    "name": "ipython",
    "version": 3
   },
   "file_extension": ".py",
   "mimetype": "text/x-python",
   "name": "python",
   "nbconvert_exporter": "python",
   "pygments_lexer": "ipython3",
   "version": "3.9.13"
  }
 },
 "nbformat": 4,
 "nbformat_minor": 5
}
