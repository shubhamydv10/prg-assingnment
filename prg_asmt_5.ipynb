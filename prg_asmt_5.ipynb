{
 "cells": [
  {
   "cell_type": "markdown",
   "id": "9a71f044",
   "metadata": {},
   "source": [
    "# 1. Write a Python Program to Find LCM?"
   ]
  },
  {
   "cell_type": "code",
   "execution_count": 1,
   "id": "29642090",
   "metadata": {},
   "outputs": [
    {
     "name": "stdout",
     "output_type": "stream",
     "text": [
      "Enter First Number: 2\n",
      "Enter Second Number:4\n",
      "The LCM of 2 and 4 is 4\n"
     ]
    }
   ],
   "source": [
    "a = int(input(\"Enter First Number: \"))\n",
    "b = int(input(\"Enter Second Number:\"))\n",
    "\n",
    "M = max(a,b)\n",
    "\n",
    "while(True):\n",
    "    if(M%a==0 and M%b==0):\n",
    "        break\n",
    "    M = M+1\n",
    "print(f\"The LCM of {a} and {b} is {M}\")"
   ]
  },
  {
   "cell_type": "markdown",
   "id": "00a7a3be",
   "metadata": {},
   "source": [
    "# 2. Write a Python Program to Find HCF?"
   ]
  },
  {
   "cell_type": "code",
   "execution_count": 2,
   "id": "15e6579d",
   "metadata": {},
   "outputs": [
    {
     "name": "stdout",
     "output_type": "stream",
     "text": [
      "Enter First Number: 2\n",
      "Enter Second Number:4\n",
      "The HCF of 2 and 4 is 2\n"
     ]
    }
   ],
   "source": [
    "a = int(input(\"Enter First Number: \"))\n",
    "b = int(input(\"Enter Second Number:\"))\n",
    "\n",
    "if b>a:\n",
    "    minimum=a\n",
    "else:\n",
    "    minimum=b\n",
    "    \n",
    "for i in range(1,minimum+1):\n",
    "    if (a%i==0 and b%i==0):\n",
    "        HCF = i\n",
    "print(f\"The HCF of {a} and {b} is {HCF}\")"
   ]
  },
  {
   "cell_type": "markdown",
   "id": "389321db",
   "metadata": {},
   "source": [
    "# 3. Write a Python Program to Convert Decimal to Binary, Octal and Hexadecimal?"
   ]
  },
  {
   "cell_type": "code",
   "execution_count": 3,
   "id": "6595f41e",
   "metadata": {},
   "outputs": [
    {
     "name": "stdout",
     "output_type": "stream",
     "text": [
      "Enter a Number: 10\n",
      "Binary value of Number is : 0b1010\n",
      "Octal value of Number is : 0o12\n",
      "Hexadecimal value of Number is : 0xa\n"
     ]
    }
   ],
   "source": [
    "num = int(input('Enter a Number: '))\n",
    "print(f\"Binary value of Number is : {bin(num)}\")\n",
    "print(f\"Octal value of Number is : {oct(num)}\")    \n",
    "print(f\"Hexadecimal value of Number is : {hex(num)}\")    "
   ]
  },
  {
   "cell_type": "markdown",
   "id": "8c597e94",
   "metadata": {},
   "source": [
    "# 4. Write a Python Program To Find ASCII value of a character?"
   ]
  },
  {
   "cell_type": "code",
   "execution_count": 4,
   "id": "ac798264",
   "metadata": {},
   "outputs": [
    {
     "name": "stdout",
     "output_type": "stream",
     "text": [
      "Enter the character : a\n",
      "The ASCII value of character is : 97\n"
     ]
    }
   ],
   "source": [
    "char = input(\"Enter the character : \")\n",
    "if len(char)>1:\n",
    "    print(\"Enter single character\")\n",
    "else:\n",
    "    print(f\"The ASCII value of character is : {ord(char)}\")"
   ]
  },
  {
   "cell_type": "markdown",
   "id": "a4f9196e",
   "metadata": {},
   "source": [
    "# 5. Write a Python Program to Make a Simple Calculator with 4 basic mathematical operations?"
   ]
  },
  {
   "cell_type": "code",
   "execution_count": 2,
   "id": "f88adf85",
   "metadata": {},
   "outputs": [
    {
     "name": "stdout",
     "output_type": "stream",
     "text": [
      "Enter mathematical Operation\n",
      "1. Addition : \n",
      "2 .Subtraction : \n",
      "3. Multiplication : \n",
      "4. Division : \n",
      "Enter choice (1-4): 2\n",
      "Enter the first number: 4\n",
      "Enter the second number: 5\n",
      "4.0 - 5.0 = -1.0\n"
     ]
    }
   ],
   "source": [
    "def addition(a,b):\n",
    "    return a+b\n",
    "\n",
    "def subtract(a,b):\n",
    "    return a-b\n",
    "\n",
    "def multiplication(a,b):\n",
    "    return a*b\n",
    "\n",
    "def division(a,b):\n",
    "    return a/b\n",
    "\n",
    "print(\"Enter mathematical Operation\")\n",
    "print(\"1. Addition : \")\n",
    "print(\"2 .Subtraction : \")\n",
    "print(\"3. Multiplication : \")\n",
    "print(\"4. Division : \")\n",
    "\n",
    "while True:\n",
    "    choice = input(\"Enter choice (1-4): \")\n",
    "\n",
    "    if choice in ('1', '2', '3', '4'):\n",
    "        num1 = float(input(\"Enter the first number: \"))\n",
    "        num2 = float(input(\"Enter the second number: \"))\n",
    "\n",
    "        if choice == '1':\n",
    "            print(num1, \"+\", num2, \"=\", addition(num1, num2))\n",
    "        elif choice == '2':\n",
    "            print(num1, \"-\", num2, \"=\", subtract(num1, num2))\n",
    "        elif choice == '3':\n",
    "            print(num1, \"*\", num2, \"=\", multiplication(num1, num2))\n",
    "        elif choice == '4':\n",
    "            if num1 != 0:\n",
    "                print(num1, \"/\", num2, \"=\", division(num1, num2))\n",
    "            else:\n",
    "                print(ZeroDivisionError)\n",
    "        break\n",
    "    else:\n",
    "        print(\"Select Valid Operation\")"
   ]
  },
  {
   "cell_type": "code",
   "execution_count": null,
   "id": "667d2d0b",
   "metadata": {},
   "outputs": [],
   "source": []
  },
  {
   "cell_type": "code",
   "execution_count": null,
   "id": "33749707",
   "metadata": {},
   "outputs": [],
   "source": [
    "\n"
   ]
  },
  {
   "cell_type": "code",
   "execution_count": null,
   "id": "33779d88",
   "metadata": {},
   "outputs": [],
   "source": []
  }
 ],
 "metadata": {
  "kernelspec": {
   "display_name": "Python 3 (ipykernel)",
   "language": "python",
   "name": "python3"
  },
  "language_info": {
   "codemirror_mode": {
    "name": "ipython",
    "version": 3
   },
   "file_extension": ".py",
   "mimetype": "text/x-python",
   "name": "python",
   "nbconvert_exporter": "python",
   "pygments_lexer": "ipython3",
   "version": "3.9.13"
  }
 },
 "nbformat": 4,
 "nbformat_minor": 5
}
