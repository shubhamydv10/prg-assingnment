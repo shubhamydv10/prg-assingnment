{
 "cells": [
  {
   "cell_type": "markdown",
   "id": "736d3fb3",
   "metadata": {},
   "source": [
    "# 1. Write a Python Program to find sum of array?"
   ]
  },
  {
   "cell_type": "code",
   "execution_count": 12,
   "id": "dabc34c7",
   "metadata": {},
   "outputs": [
    {
     "name": "stdout",
     "output_type": "stream",
     "text": [
      "Enter the array : 2,5,4,6,8,1,6,6\n",
      "The sum of (2, 5, 4, 6, 8, 1, 6, 6) is 38\n"
     ]
    }
   ],
   "source": [
    "import array;\n",
    "def arraysum():\n",
    "    \n",
    "    a = eval(input(\"Enter the array : \"))\n",
    "    s = sum(a)\n",
    "    print(f'The sum of {a} is {s}')\n",
    "    \n",
    "arraysum()\n",
    "          "
   ]
  },
  {
   "cell_type": "markdown",
   "id": "606cc8a3",
   "metadata": {},
   "source": [
    "# 2. Write a Python Program to find largest element in an array?"
   ]
  },
  {
   "cell_type": "code",
   "execution_count": 14,
   "id": "2b4a7c8d",
   "metadata": {},
   "outputs": [
    {
     "name": "stdout",
     "output_type": "stream",
     "text": [
      "Enter the array : 1,2,3,4,5,6,7,5,2,52,65,97,45\n",
      "The largest element of (1, 2, 3, 4, 5, 6, 7, 5, 2, 52, 65, 97, 45) is 97\n"
     ]
    }
   ],
   "source": [
    "import array;\n",
    "def arraymaxel():\n",
    "    \n",
    "    a = eval(input(\"Enter the array : \"))\n",
    "    m = max(a)\n",
    "    print(f'The largest element of {a} is {m}')\n",
    "    \n",
    "arraymaxel()"
   ]
  },
  {
   "cell_type": "markdown",
   "id": "4f25b622",
   "metadata": {},
   "source": [
    "# 3. Write a Python Program for array rotation?"
   ]
  },
  {
   "cell_type": "code",
   "execution_count": 18,
   "id": "6dccd047",
   "metadata": {},
   "outputs": [
    {
     "name": "stdout",
     "output_type": "stream",
     "text": [
      "Enter the array : 1,2,3,4,5\n",
      "The rotation of array is (5, 4, 3, 2, 1)\n"
     ]
    }
   ],
   "source": [
    "import array;\n",
    "def arrayrot():\n",
    "    \n",
    "    a = eval(input(\"Enter the array : \"))\n",
    "    r = a[::-1]\n",
    "    print(f'The rotation of array is {r}')\n",
    "    \n",
    "arrayrot()"
   ]
  },
  {
   "cell_type": "markdown",
   "id": "0398277c",
   "metadata": {},
   "source": [
    "# 4. Write a Python Program to Split the array and add the first part to the end?"
   ]
  },
  {
   "cell_type": "code",
   "execution_count": 32,
   "id": "0ffc6205",
   "metadata": {},
   "outputs": [
    {
     "name": "stdout",
     "output_type": "stream",
     "text": [
      "Enter the array :1,2,3,4,5,6\n",
      "[4 5 6 1 2 3]\n"
     ]
    }
   ],
   "source": [
    "import numpy as np;\n",
    "import array;\n",
    "def arraysplit():\n",
    "    a = eval(input(\"Enter the array :\"))\n",
    "    sub_array = np.array_split(a,2)\n",
    "    b=(sub_array)\n",
    "    b[0],b[1]=b[1],b[0]\n",
    "    array1= b[0]\n",
    "    array2= b[1]\n",
    "    result = np.concatenate((array1, array2))\n",
    "    print(result)\n",
    "    \n",
    "        \n",
    "arraysplit()                         #not getting the desired output [4,5,6,1,2,3] as comma is missing . some suggestion ??"
   ]
  },
  {
   "cell_type": "code",
   "execution_count": 34,
   "id": "ecf8a413",
   "metadata": {},
   "outputs": [
    {
     "name": "stdout",
     "output_type": "stream",
     "text": [
      "Enter the array :1,2,3,4,5,6\n",
      "[4 5 6] [1 2 3]\n"
     ]
    }
   ],
   "source": [
    "import numpy as np;\n",
    "import array;\n",
    "def arraysplit1():\n",
    "    a = eval(input(\"Enter the array :\"))\n",
    "    sub_array = np.array_split(a,2)\n",
    "    b=(sub_array)\n",
    "    b[0],b[1]=b[1],b[0]\n",
    "    print(b[0],b[1])\n",
    "        \n",
    "arraysplit1()                           #same in this case after trying alternative approach."
   ]
  },
  {
   "cell_type": "markdown",
   "id": "78a67f42",
   "metadata": {},
   "source": [
    "# 5. Write a Python Program to check if given array is Monotonic?"
   ]
  },
  {
   "cell_type": "code",
   "execution_count": 40,
   "id": "a0cf518c",
   "metadata": {},
   "outputs": [
    {
     "name": "stdout",
     "output_type": "stream",
     "text": [
      "Enter the Array: 4,5,6,7,8,6,2,3,6\n",
      "Array entered is not Monotonic\n"
     ]
    }
   ],
   "source": [
    "def arraymonotonic():\n",
    "    a = eval(input(\"Enter the Array: \"))\n",
    "    \n",
    "    if(all(a[i]<=a[i+1] for i in range(len(a)-1)) or all(a[i]>=a[i+1] for i in range(len(a)-1))):\n",
    "        print(f'Array entered is Monotonic')\n",
    "    \n",
    "    else:\n",
    "        print(f'Array entered is not Monotonic')\n",
    "\n",
    "arraymonotonic()"
   ]
  },
  {
   "cell_type": "code",
   "execution_count": 41,
   "id": "4f23eed9",
   "metadata": {},
   "outputs": [
    {
     "name": "stdout",
     "output_type": "stream",
     "text": [
      "Enter the Array: 1,2,3,4,5,6,7,8,9\n",
      "Array entered is Monotonic\n"
     ]
    }
   ],
   "source": [
    "arraymonotonic()"
   ]
  },
  {
   "cell_type": "code",
   "execution_count": 42,
   "id": "70f74df7",
   "metadata": {},
   "outputs": [
    {
     "name": "stdout",
     "output_type": "stream",
     "text": [
      "Enter the Array: 6,5,4,3,2,1,0\n",
      "Array entered is Monotonic\n"
     ]
    }
   ],
   "source": [
    "arraymonotonic()"
   ]
  },
  {
   "cell_type": "code",
   "execution_count": null,
   "id": "dbde7eab",
   "metadata": {},
   "outputs": [],
   "source": []
  }
 ],
 "metadata": {
  "kernelspec": {
   "display_name": "Python 3 (ipykernel)",
   "language": "python",
   "name": "python3"
  },
  "language_info": {
   "codemirror_mode": {
    "name": "ipython",
    "version": 3
   },
   "file_extension": ".py",
   "mimetype": "text/x-python",
   "name": "python",
   "nbconvert_exporter": "python",
   "pygments_lexer": "ipython3",
   "version": "3.9.13"
  }
 },
 "nbformat": 4,
 "nbformat_minor": 5
}
