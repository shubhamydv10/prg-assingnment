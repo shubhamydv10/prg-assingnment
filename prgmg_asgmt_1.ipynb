{
 "cells": [
  {
   "cell_type": "code",
   "execution_count": null,
   "id": "b2450340",
   "metadata": {},
   "outputs": [],
   "source": [
    "#1. Write a Python program to print &quot;Hello Python&quot;?"
   ]
  },
  {
   "cell_type": "code",
   "execution_count": 1,
   "id": "20c808cc",
   "metadata": {},
   "outputs": [
    {
     "name": "stdout",
     "output_type": "stream",
     "text": [
      "Hello World\n"
     ]
    }
   ],
   "source": [
    "print(\"Hello World\")"
   ]
  },
  {
   "cell_type": "code",
   "execution_count": 2,
   "id": "73b09939",
   "metadata": {},
   "outputs": [],
   "source": [
    "#2. Write a Python program to do arithmetical operations addition and division.?"
   ]
  },
  {
   "cell_type": "code",
   "execution_count": 8,
   "id": "1fa4f502",
   "metadata": {},
   "outputs": [
    {
     "name": "stdout",
     "output_type": "stream",
     "text": [
      "Enter First Number : 10\n",
      "Enter Second Number : 20\n",
      "sum is : 30\n",
      "div value is :  0.5\n"
     ]
    }
   ],
   "source": [
    "a=int(input(\"Enter First Number : \"))\n",
    "b=int(input(\"Enter Second Number : \"))\n",
    "sum = a+b\n",
    "div = a/b\n",
    "print(\"sum is :\" ,sum)\n",
    "print(\"div value is : \" , div)\n"
   ]
  },
  {
   "cell_type": "code",
   "execution_count": 5,
   "id": "6251dd09",
   "metadata": {},
   "outputs": [],
   "source": [
    "#3. Write a Python program to find the area of a triangle?"
   ]
  },
  {
   "cell_type": "code",
   "execution_count": 9,
   "id": "bc7b8f38",
   "metadata": {},
   "outputs": [
    {
     "name": "stdout",
     "output_type": "stream",
     "text": [
      "Enter height of triangle : 50\n",
      "Enter base of triangle : 50\n",
      "Area of triangle is :  1250.0\n"
     ]
    }
   ],
   "source": [
    "h = int(input(\"Enter height of triangle : \"))\n",
    "b = int(input(\"Enter base of triangle : \"))\n",
    "a = 1/2*b*h\n",
    "print(\"Area of triangle is : \" , a)\n"
   ]
  },
  {
   "cell_type": "code",
   "execution_count": 10,
   "id": "fdb6cc97",
   "metadata": {},
   "outputs": [],
   "source": [
    "#4. Write a Python program to swap two variables?"
   ]
  },
  {
   "cell_type": "code",
   "execution_count": 20,
   "id": "b1748388",
   "metadata": {},
   "outputs": [
    {
     "name": "stdout",
     "output_type": "stream",
     "text": [
      "Enter first variable : [1,2,3,5,4]\n",
      "Enter second variable :(9,8,7,5,6)\n",
      "a = (9,8,7,5,6)\n",
      "b = [1,2,3,5,4]\n"
     ]
    }
   ],
   "source": [
    "a = input(\"Enter first variable : \")\n",
    "b = input(\"Enter second variable :\")\n",
    "a,b = b,a\n",
    "print(\"a =\", a)\n",
    "print(\"b =\", b)"
   ]
  },
  {
   "cell_type": "code",
   "execution_count": 21,
   "id": "b831c491",
   "metadata": {},
   "outputs": [],
   "source": [
    "#5. Write a Python program to generate a random number?"
   ]
  },
  {
   "cell_type": "code",
   "execution_count": 36,
   "id": "973a6696",
   "metadata": {},
   "outputs": [
    {
     "name": "stdout",
     "output_type": "stream",
     "text": [
      "86807\n"
     ]
    }
   ],
   "source": [
    "import random\n",
    "r = random.randint(0,100000)\n",
    "print(r)"
   ]
  },
  {
   "cell_type": "code",
   "execution_count": null,
   "id": "67196de2",
   "metadata": {},
   "outputs": [],
   "source": []
  }
 ],
 "metadata": {
  "kernelspec": {
   "display_name": "Python 3 (ipykernel)",
   "language": "python",
   "name": "python3"
  },
  "language_info": {
   "codemirror_mode": {
    "name": "ipython",
    "version": 3
   },
   "file_extension": ".py",
   "mimetype": "text/x-python",
   "name": "python",
   "nbconvert_exporter": "python",
   "pygments_lexer": "ipython3",
   "version": "3.9.12"
  }
 },
 "nbformat": 4,
 "nbformat_minor": 5
}
